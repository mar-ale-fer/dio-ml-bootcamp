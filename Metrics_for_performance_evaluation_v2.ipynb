{
  "nbformat": 4,
  "nbformat_minor": 0,
  "metadata": {
    "colab": {
      "provenance": [],
      "authorship_tag": "ABX9TyNfkdAQ8NbM8HjNoqT22OGK",
      "include_colab_link": true
    },
    "kernelspec": {
      "name": "python3",
      "display_name": "Python 3"
    },
    "language_info": {
      "name": "python"
    }
  },
  "cells": [
    {
      "cell_type": "markdown",
      "metadata": {
        "id": "view-in-github",
        "colab_type": "text"
      },
      "source": [
        "<a href=\"https://colab.research.google.com/github/mar-ale-fer/dio-ml-bootcamp/blob/main/Metrics_for_performance_evaluation_v2.ipynb\" target=\"_parent\"><img src=\"https://colab.research.google.com/assets/colab-badge.svg\" alt=\"Open In Colab\"/></a>"
      ]
    },
    {
      "cell_type": "code",
      "execution_count": 74,
      "metadata": {
        "id": "CkK7v3Z_ufzK"
      },
      "outputs": [],
      "source": [
        "from tensorflow.keras import datasets, layers, models, Input"
      ]
    },
    {
      "cell_type": "code",
      "source": [
        "import matplotlib.pyplot as plt\n",
        "import tensorflow as tf\n",
        "\n",
        "import numpy as np\n",
        "\n",
        "import seaborn as sns\n",
        "\n",
        "import pandas as pd"
      ],
      "metadata": {
        "id": "tSvxosv9z7oy"
      },
      "execution_count": 75,
      "outputs": []
    },
    {
      "cell_type": "code",
      "source": [
        "tf.__version__"
      ],
      "metadata": {
        "colab": {
          "base_uri": "https://localhost:8080/",
          "height": 35
        },
        "id": "4oR4-ecx0FZe",
        "outputId": "75a1a885-8fcb-4e5b-aeb8-efdf108a8ae6"
      },
      "execution_count": 76,
      "outputs": [
        {
          "output_type": "execute_result",
          "data": {
            "text/plain": [
              "'2.17.1'"
            ],
            "application/vnd.google.colaboratory.intrinsic+json": {
              "type": "string"
            }
          },
          "metadata": {},
          "execution_count": 76
        }
      ]
    },
    {
      "cell_type": "code",
      "source": [
        "#not used -->%load_ext tensorboard"
      ],
      "metadata": {
        "id": "hbYKREtP0L58"
      },
      "execution_count": 77,
      "outputs": []
    },
    {
      "cell_type": "code",
      "source": [
        "logdir='log'"
      ],
      "metadata": {
        "id": "miaD4m920Rip"
      },
      "execution_count": 78,
      "outputs": []
    },
    {
      "cell_type": "code",
      "source": [
        "(train_images,train_labels), (test_images, test_labels) = datasets.mnist.load_data()"
      ],
      "metadata": {
        "id": "HzX7rCqD3Nqs"
      },
      "execution_count": 79,
      "outputs": []
    },
    {
      "cell_type": "code",
      "source": [
        "train_images = train_images.reshape((60000,28,28,1))\n",
        "test_images= test_images.reshape((10000,28,28,1))\n",
        "train_images, test_images = train_images / 255.0, test_images / 255.0\n",
        "classes=[0,1,2,3,4,5,6,7,8,9]"
      ],
      "metadata": {
        "id": "BkNl8JBY3yo5"
      },
      "execution_count": 80,
      "outputs": []
    },
    {
      "cell_type": "code",
      "source": [
        "model = models.Sequential()\n",
        "model.add(Input(shape=(28,28,1)))\n",
        "model.add(layers.Conv2D(4, (3,3), activation='relu'))\n",
        "model.add(layers.MaxPooling2D((2,2)))\n",
        "model.add(layers.Conv2D(8,(3,3), activation='relu'))\n",
        "model.add(layers.MaxPooling2D(2,2))\n",
        "model.add(layers.Conv2D(8,(3,3),activation='relu'))\n",
        "\n",
        "model.add(layers.Flatten())\n",
        "model.add(layers.Dense(8, activation='relu'))\n",
        "model.add(layers.Dense(10,activation='softmax'))"
      ],
      "metadata": {
        "id": "cySUMdhr4UpG"
      },
      "execution_count": 81,
      "outputs": []
    },
    {
      "cell_type": "code",
      "source": [
        "#not used -->tensorboard_call = tf.keras.callbacks.TensorBoard(logdir, histogram_freq=1)"
      ],
      "metadata": {
        "id": "P79KnxxM8YQq"
      },
      "execution_count": 82,
      "outputs": []
    },
    {
      "cell_type": "code",
      "source": [
        "model.compile(optimizer='adam',\n",
        "              loss='sparse_categorical_crossentropy',\n",
        "              metrics=['accuracy'])\n",
        "\n",
        "model.fit(x=train_images,\n",
        "          y=train_labels,\n",
        "          epochs=3,\n",
        "          validation_data=(test_images, test_labels))"
      ],
      "metadata": {
        "colab": {
          "base_uri": "https://localhost:8080/"
        },
        "id": "sJ4BOmAg8lQU",
        "outputId": "ffb744e3-46da-4590-a692-1b04bd74cc67"
      },
      "execution_count": 83,
      "outputs": [
        {
          "output_type": "stream",
          "name": "stdout",
          "text": [
            "Epoch 1/3\n",
            "\u001b[1m1875/1875\u001b[0m \u001b[32m━━━━━━━━━━━━━━━━━━━━\u001b[0m\u001b[37m\u001b[0m \u001b[1m29s\u001b[0m 14ms/step - accuracy: 0.6691 - loss: 0.9533 - val_accuracy: 0.9473 - val_loss: 0.1763\n",
            "Epoch 2/3\n",
            "\u001b[1m1875/1875\u001b[0m \u001b[32m━━━━━━━━━━━━━━━━━━━━\u001b[0m\u001b[37m\u001b[0m \u001b[1m24s\u001b[0m 13ms/step - accuracy: 0.9421 - loss: 0.1887 - val_accuracy: 0.9601 - val_loss: 0.1345\n",
            "Epoch 3/3\n",
            "\u001b[1m1875/1875\u001b[0m \u001b[32m━━━━━━━━━━━━━━━━━━━━\u001b[0m\u001b[37m\u001b[0m \u001b[1m23s\u001b[0m 12ms/step - accuracy: 0.9537 - loss: 0.1474 - val_accuracy: 0.9649 - val_loss: 0.1107\n"
          ]
        },
        {
          "output_type": "execute_result",
          "data": {
            "text/plain": [
              "<keras.src.callbacks.history.History at 0x7b365ecf5510>"
            ]
          },
          "metadata": {},
          "execution_count": 83
        }
      ]
    },
    {
      "cell_type": "code",
      "source": [
        "y_true=test_labels\n",
        "#y_pred=model.predict_classes(test_images)\n",
        "y_pred=np.argmax(model.predict(test_images), axis=-1)"
      ],
      "metadata": {
        "colab": {
          "base_uri": "https://localhost:8080/"
        },
        "id": "mR1Kamni9C4W",
        "outputId": "c79cf8ac-8107-4d03-ea2c-a4a7c4058285"
      },
      "execution_count": 84,
      "outputs": [
        {
          "output_type": "stream",
          "name": "stdout",
          "text": [
            "\u001b[1m313/313\u001b[0m \u001b[32m━━━━━━━━━━━━━━━━━━━━\u001b[0m\u001b[37m\u001b[0m \u001b[1m23s\u001b[0m 8ms/step\n"
          ]
        }
      ]
    },
    {
      "cell_type": "code",
      "source": [
        "classes=[0,1,2,3,4,5,6,7,8,9]"
      ],
      "metadata": {
        "id": "RJ_gtrfK9LDX"
      },
      "execution_count": 85,
      "outputs": []
    },
    {
      "cell_type": "code",
      "source": [
        "# Calculate the confusion matrix using TensorFlow\n",
        "con_mat = tf.math.confusion_matrix(labels=y_true, predictions=y_pred).numpy()\n",
        "# Normalize to values betwen 0 and 1 each cell of the confusion matrix\n",
        "#con_mat_norm = np.around(con_mat.astype('float') / con_mat.sum(axis=1)[:,np.newaxis],decimals=2)\n",
        "# Accomodate in a table-like data structure\n",
        "con_mat_df=pd.DataFrame(con_mat,\n",
        "                        index=classes,\n",
        "                        columns=classes)"
      ],
      "metadata": {
        "id": "HVTWbcGz9PqN"
      },
      "execution_count": 86,
      "outputs": []
    },
    {
      "cell_type": "code",
      "source": [
        "# Set the dimension of the figure\n",
        "figure = plt.figure(figsize=(8,8))\n",
        "sns.heatmap(con_mat_df, annot=True, cmap=plt.cm.Blues, fmt='g')\n",
        "plt.tight_layout()\n",
        "plt.ylabel('True label')\n",
        "plt.xlabel('Predicted label')\n",
        "plt.show()"
      ],
      "metadata": {
        "colab": {
          "base_uri": "https://localhost:8080/",
          "height": 684
        },
        "id": "jurH7H8N-KAS",
        "outputId": "fcfac614-1995-43fb-ed86-90bc4c4cff3a"
      },
      "execution_count": 87,
      "outputs": [
        {
          "output_type": "display_data",
          "data": {
            "text/plain": [
              "<Figure size 800x800 with 2 Axes>"
            ],
            "image/png": "[encoded data removed]"
          },
          "metadata": {}
        }
      ]
    },
    {
      "cell_type": "code",
      "source": [
        "# Initialize arrays to store per-class metrics\n",
        "num_classes = 10\n",
        "sensitivity = np.zeros(num_classes)\n",
        "specificity = np.zeros(num_classes)\n",
        "f1_score = np.zeros(num_classes)\n",
        "\n",
        "# Calculate metrics for each class\n",
        "for i in range(num_classes):\n",
        "    TP = con_mat[i][i]  # True Positives: Correct predictions of class i\n",
        "    FP = np.sum(con_mat[:, i]) - TP  # False Positives: Incorrect predictions of class i when actual class was different\n",
        "\n",
        "    # Improved TN calculation: Sum of TPs for other classes\n",
        "    TN = np.sum(np.diag(con_mat)) - con_mat[i, i]\n",
        "    # np.diag(con_mat) gets all TPs (diagonal elements)\n",
        "    # con_mat[i, i] is TP for current class i, which we exclude\n",
        "\n",
        "    FN = np.sum(con_mat[i, :]) - TP  # False Negatives: Incorrect predictions of other classes when actual class was i\n",
        "\n",
        "\n",
        "    # Calculate metrics, handling potential division by zero\n",
        "    sensitivity[i] = TP / (TP + FN) if (TP + FN) != 0 else 0  # Sensitivity/Recall/TPR\n",
        "    specificity[i] = TN / (TN + FP) if (TN + FP) != 0 else 0  # Specificity/TNR\n",
        "    f1_score[i] = 2 * TP / (2 * TP + FP + FN) if (2 * TP + FP + FN) != 0 else 0  # F1-score\n",
        "\n",
        "# Calculate overall accuracy\n",
        "overall_accuracy = np.trace(con_mat) / np.sum(con_mat)  # Trace(con_mat) is sum of diagonal elements\n",
        "\n",
        "print(f\"\\nOverall Accuracy: {overall_accuracy:.4f}\")"
      ],
      "metadata": {
        "colab": {
          "base_uri": "https://localhost:8080/"
        },
        "id": "iNKi8hDSp825",
        "outputId": "69f66e83-d329-4d99-de1c-e1c90946c88d"
      },
      "execution_count": 88,
      "outputs": [
        {
          "output_type": "stream",
          "name": "stdout",
          "text": [
            "\n",
            "Overall Accuracy: 0.9649\n"
          ]
        }
      ]
    },
    {
      "cell_type": "code",
      "source": [
        "# A tabular representation\n",
        "\n",
        "data = {\n",
        "    'Sensitivity': sensitivity,\n",
        "    'Specificity': specificity,\n",
        "    'F1-score': f1_score\n",
        "}\n",
        "\n",
        "# Create a Pandas DataFrame\n",
        "df = pd.DataFrame(data, index=classes)  # 'classes' is your list of class labels (0-9)\n",
        "\n",
        "# Display the DataFrame\n",
        "print(df)"
      ],
      "metadata": {
        "colab": {
          "base_uri": "https://localhost:8080/"
        },
        "id": "2PyIVh_Zy7kr",
        "outputId": "0839dbfc-497e-4003-de10-d0495b86628f"
      },
      "execution_count": 89,
      "outputs": [
        {
          "output_type": "stream",
          "name": "stdout",
          "text": [
            "   Sensitivity  Specificity  F1-score\n",
            "0     0.981633     0.995417  0.970737\n",
            "1     0.987665     0.998712  0.988972\n",
            "2     0.954457     0.996779  0.963325\n",
            "3     0.962376     0.997586  0.970544\n",
            "4     0.981670     0.992345  0.957774\n",
            "5     0.964126     0.995019  0.957684\n",
            "6     0.980167     0.995201  0.968540\n",
            "7     0.967899     0.994370  0.960425\n",
            "8     0.947639     0.996801  0.958961\n",
            "9     0.919722     0.997598  0.947906\n"
          ]
        }
      ]
    },
    {
      "cell_type": "markdown",
      "source": [
        "Classes ordered based on their performance"
      ],
      "metadata": {
        "id": "eKFuGRkHzk3V"
      }
    },
    {
      "cell_type": "code",
      "source": [
        "# Sort the DataFrame by F1-score in ascending order\n",
        "df_sorted = df.sort_values(by=['F1-score'], ascending=True)\n",
        "\n",
        "# Select the top 3 rows (least accurate classes)\n",
        "#least_accurate_classes = df_sorted.head(3)\n",
        "\n",
        "# Display the filtered DataFrame\n",
        "print(df_sorted)"
      ],
      "metadata": {
        "colab": {
          "base_uri": "https://localhost:8080/"
        },
        "id": "pm8fMO0szo2-",
        "outputId": "70968181-08cc-4281-d5fa-baca94ce1b2d"
      },
      "execution_count": 90,
      "outputs": [
        {
          "output_type": "stream",
          "name": "stdout",
          "text": [
            "   Sensitivity  Specificity  F1-score\n",
            "9     0.919722     0.997598  0.947906\n",
            "5     0.964126     0.995019  0.957684\n",
            "4     0.981670     0.992345  0.957774\n",
            "8     0.947639     0.996801  0.958961\n",
            "7     0.967899     0.994370  0.960425\n",
            "2     0.954457     0.996779  0.963325\n",
            "6     0.980167     0.995201  0.968540\n",
            "3     0.962376     0.997586  0.970544\n",
            "0     0.981633     0.995417  0.970737\n",
            "1     0.987665     0.998712  0.988972\n"
          ]
        }
      ]
    }
  ]
}