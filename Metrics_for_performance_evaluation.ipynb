{
  "nbformat": 4,
  "nbformat_minor": 0,
  "metadata": {
    "colab": {
      "provenance": [],
      "authorship_tag": "ABX9TyPakowAmkATX3WnAITNsRaK",
      "include_colab_link": true
    },
    "kernelspec": {
      "name": "python3",
      "display_name": "Python 3"
    },
    "language_info": {
      "name": "python"
    }
  },
  "cells": [
    {
      "cell_type": "markdown",
      "metadata": {
        "id": "view-in-github",
        "colab_type": "text"
      },
      "source": [
        "<a href=\"https://colab.research.google.com/github/mar-ale-fer/dio-ml-bootcamp/blob/main/Metrics_for_performance_evaluation.ipynb\" target=\"_parent\"><img src=\"https://colab.research.google.com/assets/colab-badge.svg\" alt=\"Open In Colab\"/></a>"
      ]
    },
    {
      "cell_type": "code",
      "execution_count": 44,
      "metadata": {
        "id": "CkK7v3Z_ufzK"
      },
      "outputs": [],
      "source": [
        "from tensorflow.keras import datasets, layers, models"
      ]
    },
    {
      "cell_type": "code",
      "source": [
        "import matplotlib.pyplot as plt\n",
        "import tensorflow as tf\n",
        "\n",
        "import numpy as np\n",
        "\n",
        "import seaborn as sns\n",
        "\n",
        "import pandas as pd"
      ],
      "metadata": {
        "id": "tSvxosv9z7oy"
      },
      "execution_count": 45,
      "outputs": []
    },
    {
      "cell_type": "code",
      "source": [
        "tf.__version__"
      ],
      "metadata": {
        "colab": {
          "base_uri": "https://localhost:8080/",
          "height": 35
        },
        "id": "4oR4-ecx0FZe",
        "outputId": "873ead78-22fe-4162-fb50-21d3e38768f2"
      },
      "execution_count": 46,
      "outputs": [
        {
          "output_type": "execute_result",
          "data": {
            "text/plain": [
              "'2.17.1'"
            ],
            "application/vnd.google.colaboratory.intrinsic+json": {
              "type": "string"
            }
          },
          "metadata": {},
          "execution_count": 46
        }
      ]
    },
    {
      "cell_type": "code",
      "source": [
        "#not used -->%load_ext tensorboard"
      ],
      "metadata": {
        "id": "hbYKREtP0L58"
      },
      "execution_count": 47,
      "outputs": []
    },
    {
      "cell_type": "code",
      "source": [
        "logdir='log'"
      ],
      "metadata": {
        "id": "miaD4m920Rip"
      },
      "execution_count": 48,
      "outputs": []
    },
    {
      "cell_type": "code",
      "source": [
        "(train_images,train_labels), (test_images, test_labels) = datasets.mnist.load_data()"
      ],
      "metadata": {
        "id": "HzX7rCqD3Nqs"
      },
      "execution_count": 49,
      "outputs": []
    },
    {
      "cell_type": "code",
      "source": [
        "train_images = train_images.reshape((60000,28,28,1))\n",
        "test_images= test_images.reshape((10000,28,28,1))\n",
        "train_images, test_images = train_images / 255.0, test_images / 255.0\n",
        "classes=[0,1,2,3,4,5,6,7,8,9]"
      ],
      "metadata": {
        "id": "BkNl8JBY3yo5"
      },
      "execution_count": 50,
      "outputs": []
    },
    {
      "cell_type": "code",
      "source": [
        "model = models.Sequential()\n",
        "model.add(layers.Conv2D(4, (3,3), activation='relu', input_shape=(28,28,1)))\n",
        "model.add(layers.MaxPooling2D((2,2)))\n",
        "model.add(layers.Conv2D(8,(3,3), activation='relu'))\n",
        "model.add(layers.MaxPooling2D(2,2))\n",
        "model.add(layers.Conv2D(8,(3,3),activation='relu'))\n",
        "\n",
        "model.add(layers.Flatten())\n",
        "model.add(layers.Dense(8, activation='relu'))\n",
        "model.add(layers.Dense(10,activation='softmax'))"
      ],
      "metadata": {
        "colab": {
          "base_uri": "https://localhost:8080/"
        },
        "id": "cySUMdhr4UpG",
        "outputId": "735bef96-11b8-4b66-d932-150f89080ed4"
      },
      "execution_count": 51,
      "outputs": [
        {
          "output_type": "stream",
          "name": "stderr",
          "text": [
            "/usr/local/lib/python3.10/dist-packages/keras/src/layers/convolutional/base_conv.py:107: UserWarning: Do not pass an `input_shape`/`input_dim` argument to a layer. When using Sequential models, prefer using an `Input(shape)` object as the first layer in the model instead.\n",
            "  super().__init__(activity_regularizer=activity_regularizer, **kwargs)\n"
          ]
        }
      ]
    },
    {
      "cell_type": "code",
      "source": [
        "#not used -->tensorboard_call = tf.keras.callbacks.TensorBoard(logdir, histogram_freq=1)"
      ],
      "metadata": {
        "id": "P79KnxxM8YQq"
      },
      "execution_count": 52,
      "outputs": []
    },
    {
      "cell_type": "code",
      "source": [
        "model.compile(optimizer='adam',\n",
        "              loss='sparse_categorical_crossentropy',\n",
        "              metrics=['accuracy'])\n",
        "\n",
        "model.fit(x=train_images,\n",
        "          y=train_labels,\n",
        "          epochs=3,\n",
        "          validation_data=(test_images, test_labels))"
      ],
      "metadata": {
        "colab": {
          "base_uri": "https://localhost:8080/"
        },
        "id": "sJ4BOmAg8lQU",
        "outputId": "5b90d7f8-5ed2-471d-d73a-48e553a1ca91"
      },
      "execution_count": 53,
      "outputs": [
        {
          "output_type": "stream",
          "name": "stdout",
          "text": [
            "Epoch 1/3\n",
            "\u001b[1m1875/1875\u001b[0m \u001b[32m━━━━━━━━━━━━━━━━━━━━\u001b[0m\u001b[37m\u001b[0m \u001b[1m43s\u001b[0m 19ms/step - accuracy: 0.6295 - loss: 1.0402 - val_accuracy: 0.9374 - val_loss: 0.2027\n",
            "Epoch 2/3\n",
            "\u001b[1m1875/1875\u001b[0m \u001b[32m━━━━━━━━━━━━━━━━━━━━\u001b[0m\u001b[37m\u001b[0m \u001b[1m29s\u001b[0m 13ms/step - accuracy: 0.9400 - loss: 0.2023 - val_accuracy: 0.9580 - val_loss: 0.1342\n",
            "Epoch 3/3\n",
            "\u001b[1m1875/1875\u001b[0m \u001b[32m━━━━━━━━━━━━━━━━━━━━\u001b[0m\u001b[37m\u001b[0m \u001b[1m41s\u001b[0m 13ms/step - accuracy: 0.9542 - loss: 0.1479 - val_accuracy: 0.9629 - val_loss: 0.1177\n"
          ]
        },
        {
          "output_type": "execute_result",
          "data": {
            "text/plain": [
              "<keras.src.callbacks.history.History at 0x7b368e87fd90>"
            ]
          },
          "metadata": {},
          "execution_count": 53
        }
      ]
    },
    {
      "cell_type": "code",
      "source": [
        "y_true=test_labels\n",
        "#y_pred=model.predict_classes(test_images)\n",
        "y_pred=np.argmax(model.predict(test_images), axis=-1)"
      ],
      "metadata": {
        "colab": {
          "base_uri": "https://localhost:8080/"
        },
        "id": "mR1Kamni9C4W",
        "outputId": "b0bd8b03-a0d6-4722-a7f6-13c56d67016c"
      },
      "execution_count": 54,
      "outputs": [
        {
          "output_type": "stream",
          "name": "stdout",
          "text": [
            "\u001b[1m313/313\u001b[0m \u001b[32m━━━━━━━━━━━━━━━━━━━━\u001b[0m\u001b[37m\u001b[0m \u001b[1m3s\u001b[0m 8ms/step\n"
          ]
        }
      ]
    },
    {
      "cell_type": "code",
      "source": [
        "classes=[0,1,2,3,4,5,6,7,8,9]"
      ],
      "metadata": {
        "id": "RJ_gtrfK9LDX"
      },
      "execution_count": 55,
      "outputs": []
    },
    {
      "cell_type": "code",
      "source": [
        "# Calculate the confusion matrix using TensorFlow\n",
        "con_mat = tf.math.confusion_matrix(labels=y_true, predictions=y_pred).numpy()\n",
        "# Normalize to values betwen 0 and 1 each cell of the confusion matrix\n",
        "#con_mat_norm = np.around(con_mat.astype('float') / con_mat.sum(axis=1)[:,np.newaxis],decimals=2)\n",
        "# Accomodate in a table-like data structure\n",
        "con_mat_df=pd.DataFrame(con_mat,\n",
        "                        index=classes,\n",
        "                        columns=classes)"
      ],
      "metadata": {
        "id": "HVTWbcGz9PqN"
      },
      "execution_count": 68,
      "outputs": []
    },
    {
      "cell_type": "code",
      "source": [
        "# Set the dimension of the figure\n",
        "figure = plt.figure(figsize=(8,8))\n",
        "sns.heatmap(con_mat_df, annot=True, cmap=plt.cm.Blues, fmt='g')\n",
        "plt.tight_layout()\n",
        "plt.ylabel('True label')\n",
        "plt.xlabel('Predicted label')\n",
        "plt.show()"
      ],
      "metadata": {
        "colab": {
          "base_uri": "https://localhost:8080/",
          "height": 684
        },
        "id": "jurH7H8N-KAS",
        "outputId": "5125173a-d8c5-447e-c73c-5977270c0f01"
      },
      "execution_count": 72,
      "outputs": [
        {
          "output_type": "display_data",
          "data": {
            "text/plain": [
              "<Figure size 800x800 with 2 Axes>"
            ],
            "image/png": "[encoded data removed]"
          },
          "metadata": {}
        }
      ]
    },
    {
      "cell_type": "code",
      "source": [
        "# Initialize arrays to store per-class metrics\n",
        "num_classes = 10\n",
        "sensitivity = np.zeros(num_classes)\n",
        "specificity = np.zeros(num_classes)\n",
        "f1_score = np.zeros(num_classes)\n",
        "\n",
        "# Calculate metrics for each class\n",
        "for i in range(num_classes):\n",
        "    TP = con_mat[i][i]  # True Positives: Correct predictions of class i\n",
        "    FP = np.sum(con_mat[:, i]) - TP  # False Positives: Incorrect predictions of class i when actual class was different\n",
        "\n",
        "    # Improved TN calculation: Sum of TPs for other classes\n",
        "    TN = np.sum(np.diag(con_mat)) - con_mat[i, i]\n",
        "    # np.diag(con_mat) gets all TPs (diagonal elements)\n",
        "    # con_mat[i, i] is TP for current class i, which we exclude\n",
        "\n",
        "    FN = np.sum(con_mat[i, :]) - TP  # False Negatives: Incorrect predictions of other classes when actual class was i\n",
        "\n",
        "\n",
        "    # Calculate metrics, handling potential division by zero\n",
        "    sensitivity[i] = TP / (TP + FN) if (TP + FN) != 0 else 0  # Sensitivity/Recall/TPR\n",
        "    specificity[i] = TN / (TN + FP) if (TN + FP) != 0 else 0  # Specificity/TNR\n",
        "    f1_score[i] = 2 * TP / (2 * TP + FP + FN) if (2 * TP + FP + FN) != 0 else 0  # F1-score\n",
        "\n",
        "# Calculate overall accuracy\n",
        "overall_accuracy = np.trace(con_mat) / np.sum(con_mat)  # Trace(con_mat) is sum of diagonal elements\n",
        "\n",
        "print(f\"\\nOverall Accuracy: {overall_accuracy:.4f}\")"
      ],
      "metadata": {
        "colab": {
          "base_uri": "https://localhost:8080/"
        },
        "id": "iNKi8hDSp825",
        "outputId": "3a5b5354-82eb-4841-9472-b799dd8fecec"
      },
      "execution_count": 67,
      "outputs": [
        {
          "output_type": "stream",
          "name": "stdout",
          "text": [
            "\n",
            "Overall Accuracy: 0.9629\n"
          ]
        }
      ]
    },
    {
      "cell_type": "code",
      "source": [
        "# A tabular representation\n",
        "\n",
        "data = {\n",
        "    'Sensitivity': sensitivity,\n",
        "    'Specificity': specificity,\n",
        "    'F1-score': f1_score\n",
        "}\n",
        "\n",
        "# Create a Pandas DataFrame\n",
        "df = pd.DataFrame(data, index=classes)  # 'classes' is your list of class labels (0-9)\n",
        "\n",
        "# Display the DataFrame\n",
        "print(df)"
      ],
      "metadata": {
        "colab": {
          "base_uri": "https://localhost:8080/"
        },
        "id": "2PyIVh_Zy7kr",
        "outputId": "ed27c991-e172-4efb-b0cf-6517bd362005"
      },
      "execution_count": 64,
      "outputs": [
        {
          "output_type": "stream",
          "name": "stdout",
          "text": [
            "   Sensitivity  Specificity  F1-score\n",
            "0     0.982653     0.995977  0.973711\n",
            "1     0.984141     0.997305  0.981978\n",
            "2     0.962209     0.994358  0.957570\n",
            "3     0.966337     0.994369  0.959214\n",
            "4     0.962322     0.998161  0.972723\n",
            "5     0.964126     0.993992  0.952909\n",
            "6     0.980167     0.993483  0.961105\n",
            "7     0.955253     0.995854  0.959922\n",
            "8     0.912731     0.997148  0.941737\n",
            "9     0.956392     0.996779  0.964036\n"
          ]
        }
      ]
    },
    {
      "cell_type": "markdown",
      "source": [
        "Classes ordered based on their performance"
      ],
      "metadata": {
        "id": "eKFuGRkHzk3V"
      }
    },
    {
      "cell_type": "code",
      "source": [
        "# Sort the DataFrame by F1-score in ascending order\n",
        "df_sorted = df.sort_values(by=['F1-score'], ascending=True)\n",
        "\n",
        "# Select the top 3 rows (least accurate classes)\n",
        "#least_accurate_classes = df_sorted.head(3)\n",
        "\n",
        "# Display the filtered DataFrame\n",
        "print(df_sorted)"
      ],
      "metadata": {
        "colab": {
          "base_uri": "https://localhost:8080/"
        },
        "id": "pm8fMO0szo2-",
        "outputId": "77097722-1fd9-4de2-b906-fabb9ad7e17a"
      },
      "execution_count": 66,
      "outputs": [
        {
          "output_type": "stream",
          "name": "stdout",
          "text": [
            "   Sensitivity  Specificity  F1-score\n",
            "8     0.912731     0.997148  0.941737\n",
            "5     0.964126     0.993992  0.952909\n",
            "2     0.962209     0.994358  0.957570\n",
            "3     0.966337     0.994369  0.959214\n",
            "7     0.955253     0.995854  0.959922\n",
            "6     0.980167     0.993483  0.961105\n",
            "9     0.956392     0.996779  0.964036\n",
            "4     0.962322     0.998161  0.972723\n",
            "0     0.982653     0.995977  0.973711\n",
            "1     0.984141     0.997305  0.981978\n"
          ]
        }
      ]
    }
  ]
}